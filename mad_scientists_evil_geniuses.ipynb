{
 "cells": [
  {
   "cell_type": "markdown",
   "metadata": {
    "slideshow": {
     "slide_type": "slide"
    }
   },
   "source": [
    "# Python Metaprogramming for Mad Scientists and Evil Geniuses\n",
    "\n",
    "    who: Walker Hale\n",
    "    cover_story: Baylor College of Medicine, HGSC"
   ]
  },
  {
   "cell_type": "markdown",
   "metadata": {
    "slideshow": {
     "slide_type": "fragment"
    }
   },
   "source": [
    "They laughed at my theories. They said I was mad. But I'll show them. I'll show them all..."
   ]
  },
  {
   "cell_type": "markdown",
   "metadata": {
    "slideshow": {
     "slide_type": "notes"
    }
   },
   "source": [
    "This document has been placed in the public domain."
   ]
  },
  {
   "cell_type": "markdown",
   "metadata": {
    "slideshow": {
     "slide_type": "slide"
    }
   },
   "source": [
    "# A little story\n",
    "\n",
    "The coding sprints at PyCon 2010 in Atlanta, Georgia…"
   ]
  },
  {
   "cell_type": "markdown",
   "metadata": {
    "slideshow": {
     "slide_type": "notes"
    }
   },
   "source": [
    "During the sprints, I met several of the core developers. They were nice, rational, and dedicated to making improvements for the greater good. These were not mere innocent bystanders! The community of core developers is populated by **altruists** — what we sometimes dergotorily call *do gooders*!\n",
    "\n",
    "It is with a profound sense if irony and gratitude that I will present how technology created such folks is an ideal component in the toolboxes for both of our communities."
   ]
  },
  {
   "cell_type": "markdown",
   "metadata": {
    "slideshow": {
     "slide_type": "slide"
    }
   },
   "source": [
    "# Thesis\n",
    "\n",
    "Python is an ideal language for both:\n",
    "\n",
    "   * Mad Scientists\n",
    "   * Evil Geniuses\n",
    "\n",
    "As for the sane atruists, I will show that they can apply black-hat techniques to good works ... *if they absolutely must.*"
   ]
  },
  {
   "cell_type": "markdown",
   "metadata": {
    "slideshow": {
     "slide_type": "slide"
    }
   },
   "source": [
    "# Different Communities, Different Concerns"
   ]
  },
  {
   "cell_type": "markdown",
   "metadata": {
    "slideshow": {
     "slide_type": "fragment"
    }
   },
   "source": [
    "<span style=\"color:red\">Mad</span> Scientist: creating new things because it's cool"
   ]
  },
  {
   "cell_type": "markdown",
   "metadata": {
    "slideshow": {
     "slide_type": "fragment"
    }
   },
   "source": [
    "<span style=\"color:red\">Evil</span> Genius: practical applications"
   ]
  },
  {
   "cell_type": "markdown",
   "metadata": {
    "slideshow": {
     "slide_type": "fragment"
    }
   },
   "source": [
    "Each is willing to <span style=\"color:red\">TWIST</span> whatever is at hand to suit their own will, despite *norms*, *conventions*, or what is considered *natural*."
   ]
  },
  {
   "cell_type": "markdown",
   "metadata": {
    "slideshow": {
     "slide_type": "notes"
    }
   },
   "source": [
    "If everyone knows what you are up to, and nobody is trying to stop you, *you are probably doing something wrong*."
   ]
  }
 ],
 "metadata": {
  "celltoolbar": "Slideshow",
  "kernelspec": {
   "display_name": "Python 3",
   "language": "python",
   "name": "python3"
  },
  "language_info": {
   "codemirror_mode": {
    "name": "ipython",
    "version": 3
   },
   "file_extension": ".py",
   "mimetype": "text/x-python",
   "name": "python",
   "nbconvert_exporter": "python",
   "pygments_lexer": "ipython3",
   "version": "3.6.3"
  }
 },
 "nbformat": 4,
 "nbformat_minor": 2
}
