{
 "cells": [
  {
   "cell_type": "markdown",
   "metadata": {
    "slideshow": {
     "slide_type": "slide"
    }
   },
   "source": [
    "# Python Metaprogramming for Mad Scientists and Evil Geniuses\n",
    "\n",
    "    who: Walker Hale\n",
    "    cover_story: Baylor College of Medicine, HGSC"
   ]
  },
  {
   "cell_type": "markdown",
   "metadata": {
    "slideshow": {
     "slide_type": "fragment"
    }
   },
   "source": [
    "They laughed at my theories. They said I was mad. But I'll show them. I'll show them all..."
   ]
  },
  {
   "cell_type": "markdown",
   "metadata": {
    "slideshow": {
     "slide_type": "notes"
    }
   },
   "source": [
    "This document has been placed in the public domain."
   ]
  },
  {
   "cell_type": "markdown",
   "metadata": {
    "slideshow": {
     "slide_type": "slide"
    }
   },
   "source": [
    "## link: https://github.com/walkerh/pytexas_2017_mad_evil\n",
    "\n",
    "![https://github.com/walkerh/pytexas_2017_mad_evil](qrcode.png)"
   ]
  },
  {
   "cell_type": "markdown",
   "metadata": {
    "slideshow": {
     "slide_type": "slide"
    }
   },
   "source": [
    "# A little story\n",
    "\n",
    "The coding sprints at PyCon 2010 in Atlanta, Georgia…"
   ]
  },
  {
   "cell_type": "markdown",
   "metadata": {
    "slideshow": {
     "slide_type": "notes"
    }
   },
   "source": [
    "During the sprints, I met several of the core developers. They were nice, rational, and dedicated to making improvements for the greater good. These were not mere innocent bystanders! The community of core developers is populated by **altruists** — what we sometimes dergotorily call *do gooders*!\n",
    "\n",
    "It is with a profound sense if irony and gratitude that I will present how technology created such folks is an ideal component in the toolboxes for both of our communities."
   ]
  },
  {
   "cell_type": "markdown",
   "metadata": {
    "slideshow": {
     "slide_type": "slide"
    }
   },
   "source": [
    "# Thesis\n",
    "\n",
    "Python is an ideal language for both:\n",
    "\n",
    "   * Mad Scientists\n",
    "   * Evil Geniuses\n",
    "\n",
    "As for the sane atruists, I will show that they can apply black-hat techniques to good works ... *if they absolutely must.*"
   ]
  },
  {
   "cell_type": "markdown",
   "metadata": {
    "slideshow": {
     "slide_type": "subslide"
    }
   },
   "source": [
    "# Different Communities, Different Concerns\n",
    "\n",
    "Each of our communities is based on a different principle of alternative ethics."
   ]
  },
  {
   "cell_type": "markdown",
   "metadata": {
    "slideshow": {
     "slide_type": "notes"
    }
   },
   "source": [
    "Although I will start from the Mad Scientist perspective, the Evil Genius applications should be obvious — at least to the Evil Geniuses."
   ]
  },
  {
   "cell_type": "markdown",
   "metadata": {
    "slideshow": {
     "slide_type": "fragment"
    }
   },
   "source": [
    "<span style=\"color:red\">Mad</span> Scientist: creating new things because it's cool"
   ]
  },
  {
   "cell_type": "markdown",
   "metadata": {
    "slideshow": {
     "slide_type": "fragment"
    }
   },
   "source": [
    "<span style=\"color:red\">Evil</span> Genius: practical applications"
   ]
  },
  {
   "cell_type": "markdown",
   "metadata": {
    "slideshow": {
     "slide_type": "fragment"
    }
   },
   "source": [
    "Each is willing to <span style=\"color:red\">TWIST</span> whatever is at hand to suit their own will, despite *norms*, *conventions*, or what is considered *natural*."
   ]
  },
  {
   "cell_type": "markdown",
   "metadata": {
    "slideshow": {
     "slide_type": "notes"
    }
   },
   "source": [
    "If everyone knows what you are up to, and nobody is trying to stop you, *you are probably doing something wrong*."
   ]
  },
  {
   "cell_type": "markdown",
   "metadata": {
    "slideshow": {
     "slide_type": "subslide"
    }
   },
   "source": [
    "# Typical Mad Science Goals"
   ]
  },
  {
   "cell_type": "markdown",
   "metadata": {
    "slideshow": {
     "slide_type": "fragment"
    }
   },
   "source": [
    "Create new living code objects from scraps without corresponding source code."
   ]
  },
  {
   "cell_type": "markdown",
   "metadata": {
    "slideshow": {
     "slide_type": "fragment"
    }
   },
   "source": [
    "Mutate third-party code to suite our purposes without modifying the third-party source code."
   ]
  },
  {
   "cell_type": "markdown",
   "metadata": {
    "slideshow": {
     "slide_type": "notes"
    }
   },
   "source": [
    "Normally there is a one-to-one correspondence between code objects (contained in functions and methods) and source code. Likewise there is normally a one-to-one correspondence between classes and source code as well as between modules and files. A programmer who is constrained by these *conventions* must know before runtime the number and names of all functions, classes, methods, and modules. Programmers such as ourselves, however, need not be limited to what is considered *natural*.\n",
    "\n",
    "Most programmers when dealing with third-party code that does not quite suite their needs feel that they must choose between patching the source code and accepting their fate. Patching the source code requires the programmer to maintain and reapply that patch as the third-party code is updated. We have the option of selectively *mutating* third-party code at runtime, an approach that is much more robust in the face of updates."
   ]
  },
  {
   "cell_type": "markdown",
   "metadata": {
    "slideshow": {
     "slide_type": "slide"
    }
   },
   "source": [
    "# Equipment\n",
    "\n",
    "* Synthetic Functions\n",
    "* Synthetic Classes\n",
    "* Synthetic Modules\n",
    "* Monkey Patching\n",
    "* `sitecustomize.py` (mainly Evil Geniuses)"
   ]
  },
  {
   "cell_type": "markdown",
   "metadata": {
    "slideshow": {
     "slide_type": "notes"
    }
   },
   "source": [
    "Any great experiment requires gathering the right equipment. These are the features and principles of Python that we shall use to express our *genius*."
   ]
  },
  {
   "cell_type": "markdown",
   "metadata": {
    "slideshow": {
     "slide_type": "slide"
    }
   },
   "source": [
    "# Synthetic Functions"
   ]
  },
  {
   "cell_type": "code",
   "execution_count": 1,
   "metadata": {},
   "outputs": [],
   "source": [
    "d = {} # Create a function from a string.\n",
    "code = '''\\\n",
    "def synthetic_spam(z):\n",
    "    return z*z + 1\n",
    "'''\n",
    "exec(code, d)"
   ]
  },
  {
   "cell_type": "code",
   "execution_count": 2,
   "metadata": {},
   "outputs": [
    {
     "name": "stdout",
     "output_type": "stream",
     "text": [
      "dict_keys(['__builtins__', 'synthetic_spam'])\n"
     ]
    },
    {
     "data": {
      "text/plain": [
       "10"
      ]
     },
     "execution_count": 2,
     "metadata": {},
     "output_type": "execute_result"
    }
   ],
   "source": [
    "print(d.keys())\n",
    "['__builtins__', 'synthetic_spam']\n",
    "spam = d['synthetic_spam']\n",
    "spam(3)"
   ]
  },
  {
   "cell_type": "markdown",
   "metadata": {},
   "source": [
    "Behold! A function even more *synthetic* than Spam itself!"
   ]
  },
  {
   "cell_type": "markdown",
   "metadata": {
    "slideshow": {
     "slide_type": "notes"
    }
   },
   "source": [
    "We can continue to parse more strings into our dict, accumulating more synthetic functions or even classes.\n",
    "\n",
    "Men and women such as ourselves are not limited to the functionality provided in mere source code! We can create new functionality by forming arbitrary strings and then using the exec keyword to compile them on the fly. We accumulate the results into a dictionary. In this way, we create new functions and classes out of the ether, unfettered by the laws of man or nature!"
   ]
  },
  {
   "cell_type": "markdown",
   "metadata": {
    "slideshow": {
     "slide_type": "slide"
    }
   },
   "source": [
    "# Synthetic Classes"
   ]
  },
  {
   "cell_type": "markdown",
   "metadata": {
    "slideshow": {
     "slide_type": "notes"
    }
   },
   "source": [
    "What is a class? Nothing more than a dressed up dict! Nothing stops us from creating one. Buwahahahaha! To make the dict, either parse some strings as I showed before with synthetic functions or assemble parts."
   ]
  },
  {
   "cell_type": "code",
   "execution_count": 3,
   "metadata": {},
   "outputs": [
    {
     "data": {
      "text/plain": [
       "('hello spam(7).', 'hello eggs().')"
      ]
     },
     "execution_count": 3,
     "metadata": {},
     "output_type": "execute_result"
    }
   ],
   "source": [
    "def spam(self, x):\n",
    "    return 'hello spam(%s).' % x\n",
    "\n",
    "def eggs(self):\n",
    "    return 'hello eggs().'\n",
    "\n",
    "d = dict(spam = spam, eggs = eggs)\n",
    "SyntheticClass = type('SyntheticClass', (), d)\n",
    "obj = SyntheticClass()\n",
    "obj.spam(7), obj.eggs()"
   ]
  },
  {
   "cell_type": "markdown",
   "metadata": {
    "slideshow": {
     "slide_type": "notes"
    }
   },
   "source": [
    "There is a more full-featured but complex method in the `types` module."
   ]
  },
  {
   "cell_type": "markdown",
   "metadata": {
    "slideshow": {
     "slide_type": "slide"
    }
   },
   "source": [
    "# Synthetic Modules"
   ]
  },
  {
   "cell_type": "markdown",
   "metadata": {
    "slideshow": {
     "slide_type": "notes"
    }
   },
   "source": [
    "Want to create a module out of the blue? No problem!"
   ]
  },
  {
   "cell_type": "code",
   "execution_count": 4,
   "metadata": {},
   "outputs": [
    {
     "name": "stdout",
     "output_type": "stream",
     "text": [
      "hello from my_function()\n"
     ]
    }
   ],
   "source": [
    "import sys, types\n",
    "my_module = types.ModuleType('synthetic',\n",
    "                             'Fake module.')\n",
    "def my_function():\n",
    "    print('hello from my_function()')\n",
    "\n",
    "my_module.eggs = my_function\n",
    "sys.modules['synthetic'] = my_module\n",
    "\n",
    "import synthetic\n",
    "synthetic.eggs()"
   ]
  },
  {
   "cell_type": "markdown",
   "metadata": {
    "slideshow": {
     "slide_type": "notes"
    }
   },
   "source": [
    "You can also use the imp module for this. See the function imp.new_module.\n",
    "\n",
    "Here I have deliberately used a function name that is different from the name in the module. This is normally not a problem. Don't forget that in modern versions of Python, you can set the value of the __name__ attribute of the function."
   ]
  },
  {
   "cell_type": "markdown",
   "metadata": {
    "slideshow": {
     "slide_type": "slide"
    }
   },
   "source": [
    "# Applications of Synthetics\n",
    "\n",
    "* Integrating user-specified formulae (functions)\n",
    "* Domain-specific languages (functions & classes)\n",
    "* GUI Frameworks (functions & classes)\n",
    "* Object-Relational Mappers (classes)\n",
    "* Monkey patching (modules, more on that later)"
   ]
  },
  {
   "cell_type": "markdown",
   "metadata": {
    "slideshow": {
     "slide_type": "notes"
    }
   },
   "source": [
    "I would hope that you appreciate these Synthetics for the joy of learning how Python is put together. Nevertheless, for those of you do-good … altruists who think that every piece of technology must somehow contribute to the \"greater good\", consider these possible applications."
   ]
  },
  {
   "cell_type": "markdown",
   "metadata": {
    "slideshow": {
     "slide_type": "slide"
    }
   },
   "source": [
    "# Monkey Patching\n",
    "\n",
    "* Functions, classes, and modules are just objects in memory.\n",
    "* Modify (patch) third-party objects.\n",
    "* Very similar to Aspect-Oriented Programming.\n",
    "* Patching third-party objects is more robust than patching third-party code."
   ]
  },
  {
   "cell_type": "markdown",
   "metadata": {
    "slideshow": {
     "slide_type": "notes"
    }
   },
   "source": [
    "In Python, functions, classes, and modules are just objects in memory waiting for you to exert your will over them. Monkey patching is the practice of modifying third-party objects dynamically at runtime in order to fix bugs or add \"features\"."
   ]
  },
  {
   "cell_type": "markdown",
   "metadata": {
    "slideshow": {
     "slide_type": "slide"
    }
   },
   "source": [
    "# Monkey Patching Modules\n",
    "\n",
    "Either:\n",
    "\n",
    "* Modify an existing module.\n",
    "* Synthesize a replacement."
   ]
  },
  {
   "cell_type": "markdown",
   "metadata": {
    "slideshow": {
     "slide_type": "fragment"
    }
   },
   "source": [
    "With either approach you must do the deed *before* any other code imports the module. (More on this later.)"
   ]
  },
  {
   "cell_type": "markdown",
   "metadata": {
    "slideshow": {
     "slide_type": "slide"
    }
   },
   "source": [
    "# Monkey Patching Classes"
   ]
  },
  {
   "cell_type": "markdown",
   "metadata": {
    "slideshow": {
     "slide_type": "notes"
    }
   },
   "source": [
    "This technique shows adding or replacing a method in a class. This will affect all instances whether already created or created later. Only instances of subclasses that have overridden the method in question are immune (unless you patch the subclasses too).\n",
    "\n",
    "Note that until it is bound to an instance, a regular method is just a function."
   ]
  },
  {
   "cell_type": "code",
   "execution_count": 5,
   "metadata": {},
   "outputs": [
    {
     "name": "stdout",
     "output_type": "stream",
     "text": [
      "grafted Spam!\n"
     ]
    }
   ],
   "source": [
    "class MyClass(object):\n",
    "    def foo():\n",
    "        pass\n",
    "    def spam():\n",
    "        print('original Spam.')\n",
    "\n",
    "x = MyClass()\n",
    "def new_spam(self):\n",
    "    print('grafted Spam!')\n",
    "\n",
    "MyClass.spam = new_spam\n",
    "x.spam()"
   ]
  },
  {
   "cell_type": "code",
   "execution_count": 6,
   "metadata": {
    "slideshow": {
     "slide_type": "subslide"
    }
   },
   "outputs": [
    {
     "data": {
      "text/plain": [
       "<bound method new_spam of <__main__.MyClass object at 0x11206f630>>"
      ]
     },
     "execution_count": 6,
     "metadata": {},
     "output_type": "execute_result"
    }
   ],
   "source": [
    "x.spam"
   ]
  },
  {
   "cell_type": "code",
   "execution_count": 7,
   "metadata": {},
   "outputs": [
    {
     "data": {
      "text/plain": [
       "<function __main__.new_spam>"
      ]
     },
     "execution_count": 7,
     "metadata": {},
     "output_type": "execute_result"
    }
   ],
   "source": [
    "MyClass.spam"
   ]
  },
  {
   "cell_type": "code",
   "execution_count": 8,
   "metadata": {},
   "outputs": [
    {
     "data": {
      "text/plain": [
       "<function __main__.MyClass.foo>"
      ]
     },
     "execution_count": 8,
     "metadata": {},
     "output_type": "execute_result"
    }
   ],
   "source": [
    "MyClass.foo"
   ]
  },
  {
   "cell_type": "markdown",
   "metadata": {
    "slideshow": {
     "slide_type": "notes"
    }
   },
   "source": [
    "The behavior has changed, but the disguise is not perfect. It could be fixed with more effort, but why bother. Duck Typing!"
   ]
  },
  {
   "cell_type": "markdown",
   "metadata": {
    "slideshow": {
     "slide_type": "slide"
    }
   },
   "source": [
    "# Monkey Patching Instances"
   ]
  },
  {
   "cell_type": "markdown",
   "metadata": {
    "slideshow": {
     "slide_type": "notes"
    }
   },
   "source": [
    "I could just as well have added the new method to a particular object instead of an entire class."
   ]
  },
  {
   "cell_type": "code",
   "execution_count": 9,
   "metadata": {},
   "outputs": [
    {
     "name": "stdout",
     "output_type": "stream",
     "text": [
      "grafted Spam!\n"
     ]
    },
    {
     "ename": "AttributeError",
     "evalue": "'MyClass2' object has no attribute 'spam'",
     "output_type": "error",
     "traceback": [
      "\u001b[0;31m---------------------------------------------------------------------------\u001b[0m",
      "\u001b[0;31mAttributeError\u001b[0m                            Traceback (most recent call last)",
      "\u001b[0;32m<ipython-input-9-8838ccaed1bf>\u001b[0m in \u001b[0;36m<module>\u001b[0;34m()\u001b[0m\n\u001b[1;32m     10\u001b[0m \u001b[0mx\u001b[0m\u001b[0;34m.\u001b[0m\u001b[0mspam\u001b[0m \u001b[0;34m=\u001b[0m \u001b[0mtypes\u001b[0m\u001b[0;34m.\u001b[0m\u001b[0mMethodType\u001b[0m\u001b[0;34m(\u001b[0m\u001b[0mnew_spam\u001b[0m\u001b[0;34m,\u001b[0m \u001b[0mx\u001b[0m\u001b[0;34m)\u001b[0m\u001b[0;34m\u001b[0m\u001b[0m\n\u001b[1;32m     11\u001b[0m \u001b[0mx\u001b[0m\u001b[0;34m.\u001b[0m\u001b[0mspam\u001b[0m\u001b[0;34m(\u001b[0m\u001b[0;34m)\u001b[0m  \u001b[0;31m# Will work\u001b[0m\u001b[0;34m\u001b[0m\u001b[0m\n\u001b[0;32m---> 12\u001b[0;31m \u001b[0my\u001b[0m\u001b[0;34m.\u001b[0m\u001b[0mspam\u001b[0m\u001b[0;34m(\u001b[0m\u001b[0;34m)\u001b[0m  \u001b[0;31m# Will fail\u001b[0m\u001b[0;34m\u001b[0m\u001b[0m\n\u001b[0m",
      "\u001b[0;31mAttributeError\u001b[0m: 'MyClass2' object has no attribute 'spam'"
     ]
    }
   ],
   "source": [
    "import types\n",
    "class MyClass2(object):\n",
    "    pass\n",
    "\n",
    "x, y = MyClass2(), MyClass2()\n",
    "\n",
    "def new_spam(self):\n",
    "    print('grafted Spam!')\n",
    "\n",
    "x.spam = types.MethodType(new_spam, x)\n",
    "x.spam()  # Will work\n",
    "y.spam()  # Will fail"
   ]
  },
  {
   "cell_type": "markdown",
   "metadata": {
    "slideshow": {
     "slide_type": "slide"
    }
   },
   "source": [
    "# sitecustomize.py\n",
    "\n",
    "How to \"*fix*\" executables."
   ]
  },
  {
   "cell_type": "markdown",
   "metadata": {
    "slideshow": {
     "slide_type": "notes"
    }
   },
   "source": [
    "From http://docs.python.org/library/site.html#index-3\n",
    "\n",
    "> After these path manipulations, an attempt is made to import a module named sitecustomize,\n",
    "> which can perform arbitrary site-specific customizations. It is typically created by a\n",
    "> system administrator in the site-packages directory. If this import fails with an\n",
    "> ImportError exception, it is silently ignored.\n",
    "\n",
    "Suppose you have one or more third-party Python executables that do things the *wrong* way. Suppose further that the maintainers refuse to address your concerns instantly and that you don't want to maintain code patches every time you install an update.\n",
    "\n",
    "* Create a special version of sitecustomize.py and stash it somewhere out of the way. (More on that later.)\n",
    "* For each offending executable you want to patch, create either a wrapper script or alias that sets PYTHONPATH to the directory containing your sitecustomize.py before passing control to the executable.\n",
    "\n",
    "You could also just temporarily set PYTHONPATH whenever you want to apply a patch for a while.\n",
    "\n",
    "Now whenever you launch one of the offending executables, the Python interpreter will import your sitecustomize.py before running the contents of the executable.\n",
    "\n",
    "Your module will load very early during initialization, even before the interpreter has populated sys.argv."
   ]
  },
  {
   "cell_type": "markdown",
   "metadata": {
    "slideshow": {
     "slide_type": "slide"
    }
   },
   "source": [
    "# Scenario 1\n",
    "\n",
    "Suppose you have one or more Python executables on a UNIX-like system that include hard paths to the wrong Python interpreter in their shebang lines. Your sitecustomize.py might look like this…\n",
    "\n",
    "Globals:\n",
    "\n",
    "```Python\n",
    "import sys, os\n",
    "EXECUTABLE = '/the/one/true/path/python'\n",
    "orig_import = __import__\n",
    "```"
   ]
  },
  {
   "cell_type": "markdown",
   "metadata": {
    "slideshow": {
     "slide_type": "subslide"
    }
   },
   "source": [
    "Define patch:\n",
    "\n",
    "```Python\n",
    "def __import__(name, globals=None, locals=None, fromlist=None):\n",
    "    \"\"\"Start a different Python interpreter.\"\"\"\n",
    "    if hasattr(sys, 'argv'):\n",
    "        # Replace current process...\n",
    "        os.execv(EXECUTABLE, ['python'] + sys.argv)\n",
    "    return orig_import(name, globals, locals, fromlist)\n",
    "```"
   ]
  },
  {
   "cell_type": "markdown",
   "metadata": {
    "slideshow": {
     "slide_type": "subslide"
    }
   },
   "source": [
    "Conditionally instal patch.\n",
    "\n",
    "```python\n",
    "if sys.executable != EXECUTABLE:\n",
    "    sys.modules['__builtin__'].__import__ = (\n",
    "        __import__\n",
    "    )\n",
    "```\n",
    "\n",
    "We can't run `os.execv` until `sys.argv` is defined, but that doesn't happen until later, so we hook into the import mechanism. Of course we must leave everything unchanged when we are later running the correct interpreter."
   ]
  },
  {
   "cell_type": "markdown",
   "metadata": {
    "slideshow": {
     "slide_type": "notes"
    }
   },
   "source": [
    "It isn't often that you can use a blackhat technique for something practical that isn't also a crime..."
   ]
  },
  {
   "cell_type": "markdown",
   "metadata": {
    "slideshow": {
     "slide_type": "slide"
    }
   },
   "source": [
    "# Scenario 2\n",
    "\n",
    "Suppose you install some third-party software with expectations of super-user privilege or hardcoded paths to restricted directories. Suppose you don't have super-user privilege on the target machine (or at least you won't admit to it). You can use these mechanisms to patch the relevant portions of the Python Standard Library!"
   ]
  },
  {
   "cell_type": "markdown",
   "metadata": {
    "slideshow": {
     "slide_type": "notes"
    }
   },
   "source": [
    "I know what I'm doing. I don't need to ask the system administrator for sudo rights anymore than I need to get a note from my mother."
   ]
  },
  {
   "cell_type": "markdown",
   "metadata": {},
   "source": [
    "If third-party software checks to see if you are some special account..."
   ]
  },
  {
   "cell_type": "markdown",
   "metadata": {
    "slideshow": {
     "slide_type": "subslide"
    }
   },
   "source": [
    "```python\n",
    "import sys, new\n",
    "pwd_new = new.module('pwd')\n",
    "\n",
    "def getpwnam(n):\n",
    "    '''I'm whoever you want me to be...'''\n",
    "    return (n, '', os.getuid(), os.getgid(),\n",
    "            'Fake', PREFIX, '/bin/bash')\n",
    "\n",
    "pwd_new.getpwnam = getpwnam\n",
    "sys.modules['pwd'] = pwd_new\n",
    "```\n",
    "\n",
    "Here we show using a synthetic module. In this case, we might have been able to just patch the module directly. We show this example in case the module in question was written in C."
   ]
  },
  {
   "cell_type": "markdown",
   "metadata": {
    "slideshow": {
     "slide_type": "subslide"
    }
   },
   "source": [
    "## When should you synthesize:\n",
    "\n",
    "* Patch a module written in C.\n",
    "* Patch just the few functions you think you need, with the assurance that if you forgot any, you will get an exception.\n",
    "* Create an object that acts like a module but really synthesizes the functions it needs by implementing a custom `__getattr__`."
   ]
  },
  {
   "cell_type": "markdown",
   "metadata": {
    "slideshow": {
     "slide_type": "slide"
    }
   },
   "source": [
    "# Dealing with Angry Villagers\n",
    "\n",
    "Q: What is the difference between a science project and a monster?"
   ]
  },
  {
   "cell_type": "markdown",
   "metadata": {
    "slideshow": {
     "slide_type": "fragment"
    }
   },
   "source": [
    "A: Control!\n",
    "\n",
    "With pitchforks and torches, they will come, ready to destroy your creation."
   ]
  },
  {
   "cell_type": "markdown",
   "metadata": {
    "slideshow": {
     "slide_type": "notes"
    }
   },
   "source": [
    "As vexing as it may be to have to justify your plans to feebleminded co-workers who do not understand your genius, experience shows that communicating your plans and addressing their concerns is time well spent."
   ]
  },
  {
   "cell_type": "markdown",
   "metadata": {
    "slideshow": {
     "slide_type": "slide"
    }
   },
   "source": [
    "# Limitations\n",
    "\n",
    "* Patching third-party code can confuse co-workers.\n",
    "    + Do it seldom.\n",
    "    + Do it publicly.\n",
    "* Updates to third-party code can still break a monkey patch.\n",
    "* You cannot monkey patch most code that resides below Python (C/C++, Java), **but** you can synthesize a replacement that delegates to the original."
   ]
  },
  {
   "cell_type": "markdown",
   "metadata": {
    "slideshow": {
     "slide_type": "slide"
    }
   },
   "source": [
    "# Closing\n",
    "\n",
    "We live in a golden age where reason and science can triumph over convention and superstition.\n",
    "\n",
    "Todo:\n",
    "\n",
    "* Revel in your *power*.\n",
    "* Laugh your most *diabolical* laugh.\n",
    "* Bend code to your *will*.\n",
    "* ..."
   ]
  },
  {
   "cell_type": "markdown",
   "metadata": {
    "slideshow": {
     "slide_type": "slide"
    }
   },
   "source": [
    "# Questions?\n",
    "\n",
    "## link: https://github.com/walkerh/pytexas_2017_mad_evil\n",
    "\n",
    "![https://github.com/walkerh/pytexas_2017_mad_evil](qrcode.png)"
   ]
  }
 ],
 "metadata": {
  "celltoolbar": "Slideshow",
  "kernelspec": {
   "display_name": "Python 3",
   "language": "python",
   "name": "python3"
  },
  "language_info": {
   "codemirror_mode": {
    "name": "ipython",
    "version": 3
   },
   "file_extension": ".py",
   "mimetype": "text/x-python",
   "name": "python",
   "nbconvert_exporter": "python",
   "pygments_lexer": "ipython3",
   "version": "3.6.3"
  }
 },
 "nbformat": 4,
 "nbformat_minor": 2
}
